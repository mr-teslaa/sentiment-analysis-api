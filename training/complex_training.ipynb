{
  "nbformat": 4,
  "nbformat_minor": 0,
  "metadata": {
    "colab": {
      "provenance": [],
      "gpuType": "T4",
      "collapsed_sections": [
        "EFDG8Q8W6KVc"
      ]
    },
    "kernelspec": {
      "name": "python3",
      "display_name": "Python 3"
    },
    "language_info": {
      "name": "python"
    },
    "gpuClass": "standard",
    "accelerator": "GPU"
  },
  "cells": [
    {
      "cell_type": "code",
      "source": [
        "!pip install transformers"
      ],
      "metadata": {
        "id": "yl2xFqObp7eD"
      },
      "execution_count": null,
      "outputs": []
    },
    {
      "cell_type": "code",
      "source": [
        "import torch\n",
        "from torch import nn\n",
        "import torchtext\n",
        "import numpy as np\n",
        "import random, time, json\n",
        "from tqdm import tqdm\n",
        "from transformers import AutoTokenizer, AutoModelForSequenceClassification\n",
        "\n",
        "print(torch.__version__)\n",
        "print(torchtext.__version__)"
      ],
      "metadata": {
        "colab": {
          "base_uri": "https://localhost:8080/"
        },
        "id": "wDY3qCk_K-Uf",
        "outputId": "ef938055-2faf-4225-f091-a89b30843ed8"
      },
      "execution_count": null,
      "outputs": [
        {
          "output_type": "stream",
          "name": "stdout",
          "text": [
            "2.0.1+cu118\n",
            "0.15.2+cpu\n"
          ]
        }
      ]
    },
    {
      "cell_type": "code",
      "source": [
        "DEVICE = torch.device(\"cuda\" if torch.cuda.is_available() else \"cpu\")\n",
        "DEVICE"
      ],
      "metadata": {
        "colab": {
          "base_uri": "https://localhost:8080/"
        },
        "id": "g0La2XDvZW5q",
        "outputId": "16da0185-1e95-49fb-8dec-2669def7702d"
      },
      "execution_count": null,
      "outputs": [
        {
          "output_type": "execute_result",
          "data": {
            "text/plain": [
              "device(type='cuda')"
            ]
          },
          "metadata": {},
          "execution_count": 2
        }
      ]
    },
    {
      "cell_type": "markdown",
      "source": [
        "# Dataset"
      ],
      "metadata": {
        "id": "xP1Jo2JqtZUR"
      }
    },
    {
      "cell_type": "markdown",
      "source": [
        "## Downloading"
      ],
      "metadata": {
        "id": "A8h8JS9eFjUm"
      }
    },
    {
      "cell_type": "code",
      "source": [
        "from google.colab import drive\n",
        "drive.mount('/content/drive')"
      ],
      "metadata": {
        "id": "kOBF__9SFO4z",
        "colab": {
          "base_uri": "https://localhost:8080/"
        },
        "outputId": "b4466a2f-7e4c-4975-8478-11911fe1824c"
      },
      "execution_count": null,
      "outputs": [
        {
          "output_type": "stream",
          "name": "stdout",
          "text": [
            "Drive already mounted at /content/drive; to attempt to forcibly remount, call drive.mount(\"/content/drive\", force_remount=True).\n"
          ]
        }
      ]
    },
    {
      "cell_type": "code",
      "source": [
        "# COPYING KAGGLE API CREDENTIALS FROM GOOGLE DRIVE TO LOAD REVIEWS DATASET FROM KAGGLE\n",
        "! mkdir ~/.kaggle\n",
        "! cp \"/content/drive/MyDrive/Colab Notebooks/docs/kaggle.json\" ~/.kaggle/\n",
        "! chmod 600 ~/.kaggle/kaggle.json"
      ],
      "metadata": {
        "id": "VuU9Zfv3FbCv",
        "colab": {
          "base_uri": "https://localhost:8080/"
        },
        "outputId": "4b0d8456-9d34-414f-ff5b-97580d8d62d2"
      },
      "execution_count": null,
      "outputs": [
        {
          "output_type": "stream",
          "name": "stdout",
          "text": [
            "mkdir: cannot create directory ‘/root/.kaggle’: File exists\n"
          ]
        }
      ]
    },
    {
      "cell_type": "code",
      "source": [
        "! kaggle datasets download -d bittlingmayer/amazonreviews\n",
        "! unzip amazonreviews.zip -d data/"
      ],
      "metadata": {
        "id": "CDKN0xmVFkv0",
        "colab": {
          "base_uri": "https://localhost:8080/"
        },
        "outputId": "63374a7f-afe1-4821-dd81-22c842eeae11"
      },
      "execution_count": null,
      "outputs": [
        {
          "output_type": "stream",
          "name": "stdout",
          "text": [
            "amazonreviews.zip: Skipping, found more recently modified local copy (use --force to force download)\n",
            "Archive:  amazonreviews.zip\n",
            "replace data/test.ft.txt.bz2? [y]es, [n]o, [A]ll, [N]one, [r]ename: n\n",
            "replace data/train.ft.txt.bz2? [y]es, [n]o, [A]ll, [N]one, [r]ename: n\n"
          ]
        }
      ]
    },
    {
      "cell_type": "code",
      "source": [
        "TRAIN_PATH = \"/content/data/train.ft.txt.bz2\"\n",
        "TEST_PATH = \"/content/data/test.ft.txt.bz2\""
      ],
      "metadata": {
        "id": "8AtLhrWfF60t"
      },
      "execution_count": null,
      "outputs": []
    },
    {
      "cell_type": "markdown",
      "source": [
        "## Loading data with filter"
      ],
      "metadata": {
        "id": "PMM1QQs0tatY"
      }
    },
    {
      "cell_type": "code",
      "source": [
        "MIN_LEN_ALLOWED = 3     # select review that has more than MIN_LEN_ALLOWED words\n",
        "MAX_LEN_ALLOWED = 60    # select review that has less than MAX_LEN_ALLOWED words\n",
        "N_TRAIN = 10_000     # maximum number of training samples to select\n",
        "N_TEST = 2500        # maximum number of test samples to select\n",
        "# N_TRAIN = 1_000     # maximum number of training samples to select\n",
        "# N_TEST = 250"
      ],
      "metadata": {
        "id": "nwAy7TVq16vm"
      },
      "execution_count": null,
      "outputs": []
    },
    {
      "cell_type": "code",
      "source": [
        "# since we have large dataset of 3.6 million reviews, we will filter only a few using this function\n",
        "def text_filter(text):\n",
        "    alpha = \"abcdefghijklnopqrstuvwxyz \"\n",
        "    text = \"\".join([i for i in text.lower().strip() if i in alpha])\n",
        "    text_len = len(text.split())\n",
        "    return text_len >= MIN_LEN_ALLOWED - 1 and text_len <= MAX_LEN_ALLOWED"
      ],
      "metadata": {
        "id": "rxYb9lWt16vq"
      },
      "execution_count": null,
      "outputs": []
    },
    {
      "cell_type": "code",
      "source": [
        "import bz2\n",
        "\n",
        "# thsi function reads data from the file and selects the line that passes through the filter function\n",
        "def extract_content(file_path, N=None):\n",
        "    data = []\n",
        "    with bz2.open(file_path, 'rt') as f:\n",
        "        with tqdm(total=N) as pbar:\n",
        "            while (line := f.readline()):\n",
        "                line = f.readline()\n",
        "                label = int(line[9])\n",
        "                text = line[11:]\n",
        "                if text_filter(text):\n",
        "                    data.append(\n",
        "                        [label, text]\n",
        "                    )\n",
        "                    pbar.update(1)\n",
        "                if pbar.n == N: break\n",
        "\n",
        "    return data"
      ],
      "metadata": {
        "id": "Rq1As9J1AqUW"
      },
      "execution_count": null,
      "outputs": []
    },
    {
      "cell_type": "code",
      "source": [
        "train = extract_content(TRAIN_PATH, N=N_TRAIN)"
      ],
      "metadata": {
        "id": "pWsnARzrGBG-",
        "colab": {
          "base_uri": "https://localhost:8080/"
        },
        "outputId": "47d16819-781a-4ce5-8f65-942d8214e0f0"
      },
      "execution_count": null,
      "outputs": [
        {
          "output_type": "stream",
          "name": "stderr",
          "text": [
            "100%|██████████| 10000/10000 [00:05<00:00, 1940.70it/s]\n"
          ]
        }
      ]
    },
    {
      "cell_type": "code",
      "source": [
        "test = extract_content(TEST_PATH, N=N_TEST)"
      ],
      "metadata": {
        "id": "x_dZtOWQGBU9",
        "colab": {
          "base_uri": "https://localhost:8080/"
        },
        "outputId": "dbe6b719-053e-477c-c514-05882f29a6c8"
      },
      "execution_count": null,
      "outputs": [
        {
          "output_type": "stream",
          "name": "stderr",
          "text": [
            "100%|██████████| 2500/2500 [00:01<00:00, 2297.19it/s]\n"
          ]
        }
      ]
    },
    {
      "cell_type": "code",
      "source": [
        "# this function balances the dataset such that each of the 2 classes has equal number of samples in train dataset\n",
        "\n",
        "def equalize_labels(data):\n",
        "    # Count the number of tuples with label 1 and label 2\n",
        "    count_1 = sum(1 for item in data if item[0] == 1)\n",
        "    count_2 = sum(1 for item in data if item[0] == 2)\n",
        "\n",
        "    # Determine the minimum count between label 1 and label 2\n",
        "    min_count = min(count_1, count_2)\n",
        "\n",
        "    # Collect tuples with label 1 and label 2 up to the minimum count\n",
        "    new_data = [item for item in data if item[0] == 1][:min_count]\n",
        "    new_data += [item for item in data if item[0] == 2][:min_count]\n",
        "\n",
        "    # shuffling the data\n",
        "    random.shuffle(new_data)\n",
        "\n",
        "    return new_data"
      ],
      "metadata": {
        "id": "dN2w5DOlRrpn"
      },
      "execution_count": null,
      "outputs": []
    },
    {
      "cell_type": "code",
      "source": [
        "train = equalize_labels(train)"
      ],
      "metadata": {
        "id": "y4oNMAqFRzWG"
      },
      "execution_count": null,
      "outputs": []
    },
    {
      "cell_type": "code",
      "source": [
        "N_TRAIN = len(train)\n",
        "N_TEST = len(test)\n",
        "\n",
        "print(\"Total Train Samples:\", N_TRAIN)\n",
        "print(\"Total TEST Samples:\", N_TEST)"
      ],
      "metadata": {
        "id": "BirtrKsF7wBa",
        "colab": {
          "base_uri": "https://localhost:8080/"
        },
        "outputId": "8c4d8472-041e-4035-a5da-5dea1c8c565c"
      },
      "execution_count": null,
      "outputs": [
        {
          "output_type": "stream",
          "name": "stdout",
          "text": [
            "Total Train Samples: 8932\n",
            "Total TEST Samples: 2500\n"
          ]
        }
      ]
    },
    {
      "cell_type": "code",
      "source": [
        "train[0], test[0]"
      ],
      "metadata": {
        "colab": {
          "base_uri": "https://localhost:8080/"
        },
        "id": "2Z6RidQX1Q6Z",
        "outputId": "73a729c9-9013-4dac-dea4-45df0d6d15e8"
      },
      "execution_count": null,
      "outputs": [
        {
          "output_type": "execute_result",
          "data": {
            "text/plain": [
              "([1,\n",
              "  'Waste of Money: We purchased this product because of its filteration system claiming it would help eliminate hard water stains on our shower doors and walls. It does not work at all and the design of the shower head is ugly. The product was delivered as promissed but without any return address or customer service information.\\n'],\n",
              " [2,\n",
              "  \"works fine, but Maha Energy is better: Check out Maha Energy's website. Their Powerex MH-C204F charger works in 100 minutes for rapid charge, with option for slower charge (better for batteries). And they have 2200 mAh batteries.\\n\"])"
            ]
          },
          "metadata": {},
          "execution_count": 13
        }
      ]
    },
    {
      "cell_type": "markdown",
      "source": [
        "## Description of Data\n",
        "- Distribution of Number of words in each sentence\n",
        "- Label Distribution\n",
        "    - 1: Negative Sentiment\n",
        "    - 2: Positive Sentiment"
      ],
      "metadata": {
        "id": "EFDG8Q8W6KVc"
      }
    },
    {
      "cell_type": "code",
      "source": [
        "import pandas as pd\n",
        "import seaborn as sns\n",
        "import matplotlib.pyplot as plt"
      ],
      "metadata": {
        "id": "zsoG3hwD69Et"
      },
      "execution_count": null,
      "outputs": []
    },
    {
      "cell_type": "code",
      "source": [
        "def plot_length_distribution(data, name, ax):\n",
        "    data = [len(i[1].split(\" \")) for i in data]\n",
        "    sns.histplot(data, bins=MAX_LEN_ALLOWED-MIN_LEN_ALLOWED, color='skyblue', edgecolor='white', ax=ax)\n",
        "    ax.set_xlabel('Length of Sentences')\n",
        "    ax.set_ylabel('Frequency')\n",
        "    ax.set_title(f'Distribution of Length of Sentences in {name} Data')\n",
        "\n",
        "def plot_label_distribution(data, name, ax):\n",
        "    data = pd.Series([i[0] for i in data])\n",
        "    data = data.value_counts()\n",
        "    data.plot(kind='bar', title=f\"Label Distribution in {name} Data\", color=\"skyblue\", ax=ax)"
      ],
      "metadata": {
        "id": "XRSqum4VS4oc"
      },
      "execution_count": null,
      "outputs": []
    },
    {
      "cell_type": "code",
      "source": [
        "fig, axes = plt.subplots(2, 2, figsize=(12, 12))\n",
        "\n",
        "plot_length_distribution(train, name=\"Train\", ax=axes[0][0])\n",
        "plot_length_distribution(test, name=\"Test\", ax=axes[0][1])\n",
        "plot_label_distribution(train, name=\"Train\", ax=axes[1][0])\n",
        "plot_label_distribution(test, name=\"Test\", ax=axes[1][1])"
      ],
      "metadata": {
        "colab": {
          "base_uri": "https://localhost:8080/",
          "height": 886
        },
        "id": "OZ7Fdr7dTycV",
        "outputId": "1db9a121-f57a-4c8c-e787-654475e51f6d"
      },
      "execution_count": null,
      "outputs": [
        {
          "output_type": "display_data",
          "data": {
            "text/plain": [
              "<Figure size 1200x1200 with 4 Axes>"
            ],
            "image/png": "[encoded data removed]"
          },
          "metadata": {}
        }
      ]
    },
    {
      "cell_type": "markdown",
      "source": [
        "## Dataloader"
      ],
      "metadata": {
        "id": "ZzzEAceCleFE"
      }
    },
    {
      "cell_type": "code",
      "source": [
        "tokenizer = AutoTokenizer.from_pretrained(\"StatsGary/setfit-ft-sentinent-eval\")\n",
        "\n",
        "tokenizer([\n",
        "    \"hello from other side\",\n",
        "    \"hi\"\n",
        "], padding=True, truncation=True, return_tensors=\"pt\")"
      ],
      "metadata": {
        "colab": {
          "base_uri": "https://localhost:8080/"
        },
        "id": "f7nAiReH7H_X",
        "outputId": "cd72e589-eb65-499c-e450-e8dea3a5294d"
      },
      "execution_count": null,
      "outputs": [
        {
          "output_type": "execute_result",
          "data": {
            "text/plain": [
              "{'input_ids': tensor([[   0, 7596, 2017, 2064, 2221,    2],\n",
              "        [   0, 7636,    2,    1,    1,    1]]), 'attention_mask': tensor([[1, 1, 1, 1, 1, 1],\n",
              "        [1, 1, 1, 0, 0, 0]])}"
            ]
          },
          "metadata": {},
          "execution_count": 14
        }
      ]
    },
    {
      "cell_type": "code",
      "source": [
        "# this function is called when a batch is generated in from DataLoader\n",
        "def collate_batch(batch):\n",
        "    time_i = time.time()\n",
        "    label_list, text_list = [], []\n",
        "    for (_label, _text) in batch:\n",
        "        label_list.append(_label - 1)\n",
        "        text_list.append(_text.lower())\n",
        "\n",
        "    label_list = torch.tensor(label_list, dtype=torch.int64)\n",
        "    text_encoded = tokenizer(text_list, padding=True, truncation=True, return_tensors=\"pt\")\n",
        "    tokens = text_encoded['input_ids']\n",
        "    masks = text_encoded['attention_mask']\n",
        "\n",
        "    return tokens.to(DEVICE), masks.to(DEVICE), label_list.to(DEVICE)\n",
        "\n",
        "# this function decides how to split the dataset into batches, here sentences of similar lengths are kept in a batch together\n",
        "class SortedSampler(torch.utils.data.Sampler):\n",
        "    def __init__(self, data_source, batch_size, shuffle_times):\n",
        "        self.batch_size = batch_size\n",
        "        self.shuffle_times = shuffle_times\n",
        "\n",
        "        # getting sorted index\n",
        "        self.idx = [i[0] for i in sorted(enumerate(data_source), key=lambda x: len(x[1]))]\n",
        "\n",
        "    def shuffle_idx(self):\n",
        "        # starting points for each batch\n",
        "        offsets = list(range(0, len(self.idx), self.batch_size))[:-1]\n",
        "        # shuffling inter-batch\n",
        "        for i in range(self.shuffle_times):\n",
        "            i1, i2 = random.choices(offsets, k=2)\n",
        "            self.idx[i1:i1+self.batch_size], self.idx[i2:i2+self.batch_size] = self.idx[i2:i2+self.batch_size], self.idx[i1:i1+self.batch_size]\n",
        "\n",
        "    def __iter__(self):\n",
        "        return iter(self.idx)\n",
        "\n",
        "    def __len__(self):\n",
        "        return len(self.idx)"
      ],
      "metadata": {
        "id": "35XhPtzqlh2B"
      },
      "execution_count": null,
      "outputs": []
    },
    {
      "cell_type": "markdown",
      "source": [
        "# Modelling"
      ],
      "metadata": {
        "id": "iQ7fcO0niUOI"
      }
    },
    {
      "cell_type": "markdown",
      "source": [
        "## Utilities"
      ],
      "metadata": {
        "id": "Ryxo8IY3GnCi"
      }
    },
    {
      "cell_type": "code",
      "source": [
        "import torch.nn.functional as F\n",
        "\n",
        "def accuracy(predictions, targets):\n",
        "    # Apply softmax to the predictions to obtain probabilities\n",
        "    probabilities = F.softmax(predictions, dim=1)\n",
        "\n",
        "    # Convert probabilities to binary predictions\n",
        "    _, predicted_labels = torch.max(probabilities, dim=1)\n",
        "\n",
        "    # Compare predicted labels with target labels to calculate accuracy\n",
        "    correct_predictions = torch.eq(predicted_labels, targets).sum().item()\n",
        "    total_predictions = targets.size(0)\n",
        "    accuracy = correct_predictions / total_predictions\n",
        "\n",
        "    return accuracy\n",
        "\n",
        "def predict_texts(texts, _print=True):\n",
        "\n",
        "    tokens, masks, y = collate_batch(\n",
        "        [[0, text.lower()] for text in texts]\n",
        "    )\n",
        "    model.eval()\n",
        "    preds = model(tokens, attention_mask=masks).logits[:, 1]\n",
        "    preds = preds.tolist()\n",
        "\n",
        "    if _print:\n",
        "        for pred, orig_text in zip(preds, texts):\n",
        "            print(f\"{int(round(pred))} ({round(pred, 3)}) - {orig_text}\")\n",
        "    else:\n",
        "        return preds\n",
        "\n",
        "def plot_history(history, skip_keys=[], splits=1, figsize=None):\n",
        "\n",
        "    if figsize == None: figsize = (15, 15//len(history))\n",
        "    fig, axs = plt.subplots(1, len(history), figsize=figsize)\n",
        "\n",
        "    for i, (_key, _val) in enumerate(history.items()):\n",
        "        for key, val in _val.items():\n",
        "            if key in skip_keys: continue\n",
        "            # creating splits\n",
        "            val = torch.tensor(val)\n",
        "            val = val[:(len(val) // splits) * splits].view(splits, -1).mean(axis=1)\n",
        "            axs[i].plot(val, label=key)\n",
        "        axs[i].legend()\n",
        "        axs[i].set_title(_key)\n",
        "\n",
        "    plt.show()"
      ],
      "metadata": {
        "id": "f5DOd15ziV4I"
      },
      "execution_count": null,
      "outputs": []
    },
    {
      "cell_type": "markdown",
      "source": [
        "## Training"
      ],
      "metadata": {
        "id": "t6AFhT_NHghE"
      }
    },
    {
      "cell_type": "code",
      "source": [
        "# DATA PARAMETERS\n",
        "BATCH_SIZE = 64\n",
        "TEST_BATCH_SIZE = 64\n",
        "TRAIN_ITERATIONS_PER_EPOCH = N_TRAIN // BATCH_SIZE\n",
        "TEST_ITERATIONS_PER_EPOCH = N_TEST // TEST_BATCH_SIZE\n",
        "SHUFFLE_TIMES = 50000\n",
        "# TRAINGING PARAMETERS\n",
        "EPOCHS = 1\n",
        "LR = 0.01\n",
        "MOMENTUM = 0\n",
        "SCHEDULER_STEP_SIZE = 1\n",
        "SCHEDULER_FACTOR = 0.8\n",
        "# TESTING PARAMETERS\n",
        "INFO_SPLIT = 100\n",
        "TEST_SENTENCES = [\n",
        "    # negative sentences\n",
        "    \"I'm extremely disappointed with the quality of this item; it broke within a week.\",\n",
        "    \"The customer support for this product is terrible; they were unhelpful and rude.\",#\n",
        "    \"I had high expectations for this item, but it turned out to be a total letdown.\",\n",
        "    \"The shipping was delayed, and the packaging was damaged when the product arrived.\",\n",
        "    \"I encountered multiple issues with this item, and the manufacturer provided no solutions.\",\n",
        "    \"The features advertised for this product are misleading; it doesn't perform as claimed.\",#\n",
        "    \"I found this item to be overpriced for its quality; it doesn't justify the cost.\",\n",
        "    \"The user interface is confusing and difficult to navigate; it's not user-friendly at all.\",#\n",
        "\n",
        "    # possitive sentences\n",
        "    \"The product exceeded my expectations and I am extremely satisfied with it.\",#\n",
        "    \"This is the best product I've ever purchased, and I can't recommend it enough.\",\n",
        "    \"The quality of the product is outstanding, and it's worth every penny.\",#\n",
        "    \"I've had this item for a week now, and I'm impressed with its performance.\",#\n",
        "    \"I was skeptical at first, but this product turned out to be a pleasant surprise.\",\n",
        "    \"The product arrived in a damaged box, but fortunately, the item itself was fine.\",#\n",
        "    \"I've tried many similar products, but this one stands out from the rest.\",#\n",
        "    \"The features of this item are impressive, and it offers great value for money.\",#\n",
        "]"
      ],
      "metadata": {
        "id": "XwvZxZMMpO3t"
      },
      "execution_count": null,
      "outputs": []
    },
    {
      "cell_type": "code",
      "source": [
        "print(\"TRAIN_ITERATIONS_PER_EPOCH\", TRAIN_ITERATIONS_PER_EPOCH)\n",
        "print(\"TEST_ITERATIONS_PER_EPOCH\", TEST_ITERATIONS_PER_EPOCH)\n",
        "\n",
        "lr = LR\n",
        "steps = 0\n",
        "for i in range(EPOCHS):\n",
        "    print(f\"Epoch: {i+1}\\tLR: {lr}\")\n",
        "    steps += 1\n",
        "    if steps == SCHEDULER_STEP_SIZE:\n",
        "        steps = 0\n",
        "        lr *= SCHEDULER_FACTOR"
      ],
      "metadata": {
        "colab": {
          "base_uri": "https://localhost:8080/"
        },
        "id": "h_QqtjiYXeae",
        "outputId": "8d6a2060-3894-4631-d5a3-4baeb6189ad6"
      },
      "execution_count": null,
      "outputs": [
        {
          "output_type": "stream",
          "name": "stdout",
          "text": [
            "TRAIN_ITERATIONS_PER_EPOCH 139\n",
            "TEST_ITERATIONS_PER_EPOCH 39\n",
            "Epoch: 1\tLR: 0.01\n"
          ]
        }
      ]
    },
    {
      "cell_type": "code",
      "source": [
        "# ===> TRAIN DATALOADER\n",
        "train_dataloader = torch.utils.data.DataLoader(\n",
        "    train,\n",
        "    batch_size = BATCH_SIZE,\n",
        "    collate_fn = collate_batch,\n",
        "    sampler = SortedSampler(train, BATCH_SIZE, SHUFFLE_TIMES)\n",
        ")\n",
        "\n",
        "# ===> TEST DATALOADER\n",
        "test_dataloader = torch.utils.data.DataLoader(\n",
        "    test,\n",
        "    batch_size = TEST_BATCH_SIZE,\n",
        "    collate_fn = collate_batch,\n",
        "    sampler = SortedSampler(test, TEST_BATCH_SIZE, 0)\n",
        ")"
      ],
      "metadata": {
        "id": "025uAlpy8a8E"
      },
      "execution_count": null,
      "outputs": []
    },
    {
      "cell_type": "code",
      "source": [
        "# ===> MODEL\n",
        "model = AutoModelForSequenceClassification.from_pretrained(\"StatsGary/setfit-ft-sentinent-eval\").to(DEVICE)\n",
        "\n",
        "# ===> LOSS\n",
        "criterion = nn.CrossEntropyLoss()\n",
        "\n",
        "# ===> OPTIMIZER\n",
        "optimizer = torch.optim.SGD(model.parameters(), lr=LR, momentum=MOMENTUM)\n",
        "\n",
        "# ===> SCHEDULER\n",
        "scheduler = torch.optim.lr_scheduler.StepLR(optimizer, step_size=SCHEDULER_STEP_SIZE, gamma=SCHEDULER_FACTOR)"
      ],
      "metadata": {
        "id": "2psT8kQXpUxF",
        "colab": {
          "base_uri": "https://localhost:8080/"
        },
        "outputId": "15de2e33-0594-426a-bdd6-0b54961f993d"
      },
      "execution_count": null,
      "outputs": [
        {
          "output_type": "stream",
          "name": "stderr",
          "text": [
            "Some weights of the model checkpoint at StatsGary/setfit-ft-sentinent-eval were not used when initializing MPNetForSequenceClassification: ['pooler.dense.bias', 'pooler.dense.weight']\n",
            "- This IS expected if you are initializing MPNetForSequenceClassification from the checkpoint of a model trained on another task or with another architecture (e.g. initializing a BertForSequenceClassification model from a BertForPreTraining model).\n",
            "- This IS NOT expected if you are initializing MPNetForSequenceClassification from the checkpoint of a model that you expect to be exactly identical (initializing a BertForSequenceClassification model from a BertForSequenceClassification model).\n",
            "Some weights of MPNetForSequenceClassification were not initialized from the model checkpoint at StatsGary/setfit-ft-sentinent-eval and are newly initialized: ['classifier.dense.weight', 'classifier.out_proj.weight', 'classifier.dense.bias', 'classifier.out_proj.bias']\n",
            "You should probably TRAIN this model on a down-stream task to be able to use it for predictions and inference.\n"
          ]
        }
      ]
    },
    {
      "cell_type": "code",
      "source": [
        "model"
      ],
      "metadata": {
        "colab": {
          "base_uri": "https://localhost:8080/"
        },
        "id": "Svpf2jWqN5B7",
        "outputId": "76fca290-d574-4e02-fefd-5018d7155c99"
      },
      "execution_count": null,
      "outputs": [
        {
          "output_type": "execute_result",
          "data": {
            "text/plain": [
              "MPNetForSequenceClassification(\n",
              "  (mpnet): MPNetModel(\n",
              "    (embeddings): MPNetEmbeddings(\n",
              "      (word_embeddings): Embedding(30527, 768, padding_idx=1)\n",
              "      (position_embeddings): Embedding(514, 768, padding_idx=1)\n",
              "      (LayerNorm): LayerNorm((768,), eps=1e-05, elementwise_affine=True)\n",
              "      (dropout): Dropout(p=0.1, inplace=False)\n",
              "    )\n",
              "    (encoder): MPNetEncoder(\n",
              "      (layer): ModuleList(\n",
              "        (0-11): 12 x MPNetLayer(\n",
              "          (attention): MPNetAttention(\n",
              "            (attn): MPNetSelfAttention(\n",
              "              (q): Linear(in_features=768, out_features=768, bias=True)\n",
              "              (k): Linear(in_features=768, out_features=768, bias=True)\n",
              "              (v): Linear(in_features=768, out_features=768, bias=True)\n",
              "              (o): Linear(in_features=768, out_features=768, bias=True)\n",
              "              (dropout): Dropout(p=0.1, inplace=False)\n",
              "            )\n",
              "            (LayerNorm): LayerNorm((768,), eps=1e-05, elementwise_affine=True)\n",
              "            (dropout): Dropout(p=0.1, inplace=False)\n",
              "          )\n",
              "          (intermediate): MPNetIntermediate(\n",
              "            (dense): Linear(in_features=768, out_features=3072, bias=True)\n",
              "            (intermediate_act_fn): GELUActivation()\n",
              "          )\n",
              "          (output): MPNetOutput(\n",
              "            (dense): Linear(in_features=3072, out_features=768, bias=True)\n",
              "            (LayerNorm): LayerNorm((768,), eps=1e-05, elementwise_affine=True)\n",
              "            (dropout): Dropout(p=0.1, inplace=False)\n",
              "          )\n",
              "        )\n",
              "      )\n",
              "      (relative_attention_bias): Embedding(32, 12)\n",
              "    )\n",
              "  )\n",
              "  (classifier): MPNetClassificationHead(\n",
              "    (dense): Linear(in_features=768, out_features=768, bias=True)\n",
              "    (dropout): Dropout(p=0.1, inplace=False)\n",
              "    (out_proj): Linear(in_features=768, out_features=2, bias=True)\n",
              "  )\n",
              ")"
            ]
          },
          "metadata": {},
          "execution_count": 21
        }
      ]
    },
    {
      "cell_type": "code",
      "source": [
        "predict_texts(TEST_SENTENCES)"
      ],
      "metadata": {
        "colab": {
          "base_uri": "https://localhost:8080/"
        },
        "id": "5_J--QZG9QSF",
        "outputId": "2ece6590-bd06-4811-abc2-62429d745bfd"
      },
      "execution_count": null,
      "outputs": [
        {
          "output_type": "stream",
          "name": "stdout",
          "text": [
            "0 (0.021) - I'm extremely disappointed with the quality of this item; it broke within a week.\n",
            "0 (0.023) - The customer support for this product is terrible; they were unhelpful and rude.\n",
            "0 (0.052) - I had high expectations for this item, but it turned out to be a total letdown.\n",
            "0 (0.037) - The shipping was delayed, and the packaging was damaged when the product arrived.\n",
            "0 (0.02) - I encountered multiple issues with this item, and the manufacturer provided no solutions.\n",
            "0 (0.041) - The features advertised for this product are misleading; it doesn't perform as claimed.\n",
            "0 (0.027) - I found this item to be overpriced for its quality; it doesn't justify the cost.\n",
            "0 (0.023) - The user interface is confusing and difficult to navigate; it's not user-friendly at all.\n",
            "0 (0.023) - The product exceeded my expectations and I am extremely satisfied with it.\n",
            "0 (0.007) - This is the best product I've ever purchased, and I can't recommend it enough.\n",
            "0 (0.005) - The quality of the product is outstanding, and it's worth every penny.\n",
            "0 (0.013) - I've had this item for a week now, and I'm impressed with its performance.\n",
            "0 (0.035) - I was skeptical at first, but this product turned out to be a pleasant surprise.\n",
            "0 (0.033) - The product arrived in a damaged box, but fortunately, the item itself was fine.\n",
            "0 (0.001) - I've tried many similar products, but this one stands out from the rest.\n",
            "0 (0.009) - The features of this item are impressive, and it offers great value for money.\n"
          ]
        }
      ]
    },
    {
      "cell_type": "code",
      "source": [
        "losses = {\n",
        "    \"train\": [],\n",
        "    \"test\": [],\n",
        "}\n",
        "metrics = {\n",
        "    \"train\": [],\n",
        "    \"test\": [],\n",
        "}\n",
        "\n",
        "for epoch in range(EPOCHS):\n",
        "\n",
        "    # TRAINING\n",
        "    with tqdm(total=TRAIN_ITERATIONS_PER_EPOCH) as pbar:\n",
        "        model.train()\n",
        "        temp_acc = 0\n",
        "        temp_loss = 0\n",
        "        i = 0\n",
        "        for tokens, masks, y in train_dataloader:\n",
        "            optimizer.zero_grad()\n",
        "            preds = model(tokens, attention_mask=masks).logits\n",
        "            loss = criterion(preds, y)\n",
        "            loss.backward()\n",
        "            optimizer.step()\n",
        "            metric = accuracy(preds, y)\n",
        "\n",
        "            losses['train'].append(loss.item())\n",
        "            metrics['train'].append(metric)\n",
        "            # metrics['train'].append(0)\n",
        "\n",
        "            pbar.update(1)\n",
        "\n",
        "            if pbar.n % (pbar.total // INFO_SPLIT) == 0:\n",
        "                # interrupting the progress bar so last metrics and losses are visible\n",
        "                # writing to progress bar\n",
        "                round_to = 4\n",
        "                temp_loss = str(round(np.mean(losses['train'][-pbar.total // INFO_SPLIT:]), round_to))\n",
        "                temp_acc = str(round(np.mean(metrics['train'][-pbar.total // INFO_SPLIT:]), round_to))\n",
        "                temp_loss += \" \" * (round_to + 2 - len(temp_loss))\n",
        "                temp_acc += \" \" * (round_to + 2 - len(temp_acc))\n",
        "\n",
        "                pbar.set_description(f\"Epoch {epoch+1}/{EPOCHS} ----> [ Loss: {temp_loss} Accuracy: {temp_acc} ]\")\n",
        "                print()\n",
        "\n",
        "    # TESTING\n",
        "    with torch.no_grad():\n",
        "        model.eval()\n",
        "        for tokens, masks, y in test_dataloader:\n",
        "            preds = model(tokens, attention_mask=masks).logits\n",
        "            loss = criterion(preds, y)\n",
        "            metric = accuracy(preds, y)\n",
        "\n",
        "            losses['test'].append(loss.item())\n",
        "            metrics['test'].append(metric)\n",
        "            metrics['test'].append(0)\n",
        "        print(f\"Epoch {epoch+1}/{EPOCHS} ----> [ Test Loss: {np.mean(losses['test'])} Test Accuracy: {np.mean(metrics['test'])} ]\")\n",
        "        print()\n",
        "\n",
        "    # END OF EPOCH\n",
        "    scheduler.step()\n",
        "\n",
        "    # predict_texts(TEST_SENTENCES)\n",
        "    # print()\n",
        "\n",
        "    if epoch > 0:\n",
        "        plot_history(\n",
        "            splits = epoch+1,\n",
        "            skip_keys = [],\n",
        "            figsize = (10, 10//3),\n",
        "            history = {\n",
        "                \"loss\": losses,\n",
        "                \"accuracy\": metrics,\n",
        "            }\n",
        "        )\n"
      ],
      "metadata": {
        "id": "kcVV3oeQiV67"
      },
      "execution_count": null,
      "outputs": []
    },
    {
      "cell_type": "code",
      "source": [
        "model.save_pretrained(\"saved_model\")"
      ],
      "metadata": {
        "id": "hxTgf2GxCvsN"
      },
      "execution_count": null,
      "outputs": []
    },
    {
      "cell_type": "code",
      "source": [
        "plot_history(\n",
        "    splits = 200,\n",
        "    skip_keys = [\n",
        "        # \"train\",\n",
        "        \"test\"\n",
        "    ],\n",
        "    figsize = (14, 14//3),\n",
        "    history = {\n",
        "        \"loss\": losses,\n",
        "        \"accuracy\": metrics,\n",
        "    }\n",
        ")"
      ],
      "metadata": {
        "id": "HwOMeqlbtolr"
      },
      "execution_count": null,
      "outputs": []
    },
    {
      "cell_type": "markdown",
      "source": [
        "## Validating"
      ],
      "metadata": {
        "id": "tTYm2BN_lfDo"
      }
    },
    {
      "cell_type": "code",
      "source": [
        "# GETTING THE PREDICTIONS\n",
        "\n",
        "valid_preds = []\n",
        "valid_labels = []\n",
        "with torch.no_grad():\n",
        "    model.eval()\n",
        "    for x, y in test_dataloader:\n",
        "        preds = model(x)\n",
        "        valid_preds.extend(preds.round().type(torch.int32).tolist())\n",
        "        valid_labels.extend(y.type(torch.int32).tolist())"
      ],
      "metadata": {
        "id": "m5rJEY89hrd_"
      },
      "execution_count": null,
      "outputs": []
    },
    {
      "cell_type": "code",
      "source": [
        "import numpy as np\n",
        "import matplotlib.pyplot as plt\n",
        "from sklearn.metrics import accuracy_score, confusion_matrix, precision_score, recall_score, f1_score, classification_report\n",
        "\n",
        "# Calculate accuracy\n",
        "acc = accuracy_score(valid_labels, valid_preds)\n",
        "print(f\"Accuracy: {acc:.4f}\")\n",
        "\n",
        "# Calculate confusion matrix\n",
        "cm = confusion_matrix(valid_labels, valid_preds)\n",
        "print()\n",
        "print(\"Confusion Matrix:\")\n",
        "print(cm)\n",
        "print()\n",
        "\n",
        "# Plot heatmap of confusion matrix\n",
        "plt.imshow(cm, cmap='Blues')\n",
        "plt.title('Confusion Matrix')\n",
        "plt.colorbar()\n",
        "plt.xlabel('Predicted Label')\n",
        "plt.ylabel('True Label')\n",
        "plt.xticks([0, 1], ['0', '1'])\n",
        "plt.yticks([0, 1], ['0', '1'])\n",
        "plt.show()\n",
        "\n",
        "# Calculate precision, recall, and F1 score\n",
        "precision = precision_score(valid_labels, valid_preds)\n",
        "recall = recall_score(valid_labels, valid_preds)\n",
        "f1 = f1_score(valid_labels, valid_preds)\n",
        "\n",
        "print()\n",
        "print(f\"Precision: {precision:.4f}\")\n",
        "print(f\"Recall: {recall:.4f}\")\n",
        "print(f\"F1 Score: {f1:.4f}\")\n",
        "\n",
        "# Print classification report\n",
        "classification_rep = classification_report(valid_labels, valid_preds)\n",
        "print()\n",
        "print(\"Classification Report:\")\n",
        "print(classification_rep)"
      ],
      "metadata": {
        "id": "_yUrWx6rkryr",
        "colab": {
          "base_uri": "https://localhost:8080/",
          "height": 836
        },
        "outputId": "e02064a8-82df-445f-d3bc-3e71e4827053"
      },
      "execution_count": null,
      "outputs": [
        {
          "output_type": "stream",
          "name": "stdout",
          "text": [
            "Accuracy: 0.9409\n",
            "\n",
            "Confusion Matrix:\n",
            "[[36074  3042]\n",
            " [ 1991 44028]]\n",
            "\n"
          ]
        },
        {
          "output_type": "display_data",
          "data": {
            "text/plain": [
              "<Figure size 640x480 with 2 Axes>"
            ],
            "image/png": "[encoded data removed]"
          },
          "metadata": {}
        },
        {
          "output_type": "stream",
          "name": "stdout",
          "text": [
            "\n",
            "Precision: 0.9354\n",
            "Recall: 0.9567\n",
            "F1 Score: 0.9459\n",
            "\n",
            "Classification Report:\n",
            "              precision    recall  f1-score   support\n",
            "\n",
            "           0       0.95      0.92      0.93     39116\n",
            "           1       0.94      0.96      0.95     46019\n",
            "\n",
            "    accuracy                           0.94     85135\n",
            "   macro avg       0.94      0.94      0.94     85135\n",
            "weighted avg       0.94      0.94      0.94     85135\n",
            "\n"
          ]
        }
      ]
    },
    {
      "cell_type": "code",
      "source": [
        "predict_texts([\"that was not a bad experience of my life\"])\n",
        "predict_texts([\"that was a bad experience of my life\"])"
      ],
      "metadata": {
        "id": "0-cpWP_Onchh",
        "colab": {
          "base_uri": "https://localhost:8080/"
        },
        "outputId": "52a9fa19-80c6-4d6a-9937-8a3b608c7bf3"
      },
      "execution_count": null,
      "outputs": [
        {
          "output_type": "stream",
          "name": "stdout",
          "text": [
            "1 (0.953) - that was not a bad experience of my life\n",
            "1 (0.601) - that was a bad experience of my life\n"
          ]
        }
      ]
    },
    {
      "cell_type": "code",
      "source": [
        "x, y = collate_batch(\n",
        "    [[0, TEXT_PIPELINE(text)] for text in TEST_SENTENCES]\n",
        ")\n",
        "model.eval()\n",
        "preds = model(x)\n",
        "# preds = preds.round()\n",
        "preds = preds.tolist()\n",
        "\n",
        "for pred, orig_text in zip(preds, TEST_SENTENCES):\n",
        "    print(f\"Text: {orig_text}\")\n",
        "    print(f\"Prediction: {['Negative Sentiment', 'Positive Sentiment'][int(round(pred))]} ( Confidence in Prediction: {abs(round(( pred - (1 - round(pred)) ) * 100 , 2))}% )\")\n",
        "    print()"
      ],
      "metadata": {
        "id": "zoGDB4W4Zc3p",
        "colab": {
          "base_uri": "https://localhost:8080/"
        },
        "outputId": "ce1a7b02-bfd7-4bbf-d839-7adb3da4ed4a"
      },
      "execution_count": null,
      "outputs": [
        {
          "output_type": "stream",
          "name": "stdout",
          "text": [
            "Text: I'm extremely disappointed with the quality of this item; it broke within a week.\n",
            "Prediction: Negative Sentiment ( Confidence in Prediction: 99.99% )\n",
            "\n",
            "Text: The customer support for this product is terrible; they were unhelpful and rude.\n",
            "Prediction: Negative Sentiment ( Confidence in Prediction: 99.95% )\n",
            "\n",
            "Text: I had high expectations for this item, but it turned out to be a total letdown.\n",
            "Prediction: Negative Sentiment ( Confidence in Prediction: 98.76% )\n",
            "\n",
            "Text: The shipping was delayed, and the packaging was damaged when the product arrived.\n",
            "Prediction: Negative Sentiment ( Confidence in Prediction: 55.43% )\n",
            "\n",
            "Text: I encountered multiple issues with this item, and the manufacturer provided no solutions.\n",
            "Prediction: Positive Sentiment ( Confidence in Prediction: 74.52% )\n",
            "\n",
            "Text: The features advertised for this product are misleading; it doesn't perform as claimed.\n",
            "Prediction: Negative Sentiment ( Confidence in Prediction: 98.47% )\n",
            "\n",
            "Text: I found this item to be overpriced for its quality; it doesn't justify the cost.\n",
            "Prediction: Negative Sentiment ( Confidence in Prediction: 98.53% )\n",
            "\n",
            "Text: The user interface is confusing and difficult to navigate; it's not user-friendly at all.\n",
            "Prediction: Negative Sentiment ( Confidence in Prediction: 99.98% )\n",
            "\n",
            "Text: The product exceeded my expectations and I am extremely satisfied with it.\n",
            "Prediction: Positive Sentiment ( Confidence in Prediction: 99.86% )\n",
            "\n",
            "Text: This is the best product I've ever purchased, and I can't recommend it enough.\n",
            "Prediction: Positive Sentiment ( Confidence in Prediction: 99.85% )\n",
            "\n",
            "Text: The quality of the product is outstanding, and it's worth every penny.\n",
            "Prediction: Positive Sentiment ( Confidence in Prediction: 99.86% )\n",
            "\n",
            "Text: I've had this item for a week now, and I'm impressed with its performance.\n",
            "Prediction: Positive Sentiment ( Confidence in Prediction: 99.57% )\n",
            "\n",
            "Text: I was skeptical at first, but this product turned out to be a pleasant surprise.\n",
            "Prediction: Positive Sentiment ( Confidence in Prediction: 87.31% )\n",
            "\n",
            "Text: The product arrived in a damaged box, but fortunately, the item itself was fine.\n",
            "Prediction: Negative Sentiment ( Confidence in Prediction: 80.27% )\n",
            "\n",
            "Text: I've tried many similar products, but this one stands out from the rest.\n",
            "Prediction: Negative Sentiment ( Confidence in Prediction: 84.53% )\n",
            "\n",
            "Text: The features of this item are impressive, and it offers great value for money.\n",
            "Prediction: Positive Sentiment ( Confidence in Prediction: 99.87% )\n",
            "\n"
          ]
        }
      ]
    },
    {
      "cell_type": "code",
      "source": [],
      "metadata": {
        "id": "VMws7p5R97aS"
      },
      "execution_count": null,
      "outputs": []
    }
  ]
}